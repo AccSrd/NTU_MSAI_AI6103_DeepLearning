{
  "nbformat": 4,
  "nbformat_minor": 0,
  "metadata": {
    "colab": {
      "name": "LogisticRegression.ipynb",
      "provenance": [],
      "collapsed_sections": []
    },
    "kernelspec": {
      "name": "python3",
      "display_name": "Python 3"
    },
    "accelerator": "GPU"
  },
  "cells": [
    {
      "cell_type": "markdown",
      "metadata": {
        "id": "j8qGhoAt-h5-"
      },
      "source": [
        "# Multi-class classification\n",
        "\n",
        "Softmax regression (aka multinomial logistic regression) is a generalisation of logistic regression that handles multi-class classification. When number of classes is 2, softmax regression reduces to logistic regression. \n",
        "\n",
        "#### Softmax function\n",
        "\n",
        "$\\sigma(z) = \\frac{e^{z_i}}{\\sum_{j=1}^{K} e^{z_j}}$\n",
        "\n",
        "where $K$ is number of classes.\n",
        "\n",
        "\\\n",
        "\n",
        "<img src=\"https://miro.medium.com/max/4800/1*ReYpdIZ3ZSAPb2W8cJpkBg.jpeg\" alt=\"drawing\" width=\"300\"/>\n",
        "\n",
        " "
      ]
    },
    {
      "cell_type": "markdown",
      "metadata": {
        "id": "ICRkT5W3ndjA"
      },
      "source": [
        "### UCI Datataset\n",
        "1. [Iris](https://archive.ics.uci.edu/ml/datasets/Iris): Classify into 3 classes based on 4 attributes; 150 examples.\n",
        "2. [Adult](https://archive.ics.uci.edu/ml/datasets/Adult): Classify whether income exceeds $50K/yr using 14 attributes; 48842 examples.\n",
        "3. [Wine](https://archive.ics.uci.edu/ml/datasets/Wine): Classify 3 different cultivars based on 13 attributes; 178 examples."
      ]
    },
    {
      "cell_type": "markdown",
      "metadata": {
        "id": "Ne0CToEhQMgT"
      },
      "source": [
        "### Content\n",
        "1. Import libraries\n",
        "2. Prepare dataset\n",
        "3. Training hyperparameters\n",
        "4. Dataloader\n",
        "4. Model\n",
        "5. Training\n",
        "6. Visualisation \n"
      ]
    },
    {
      "cell_type": "code",
      "metadata": {
        "colab": {
          "base_uri": "https://localhost:8080/"
        },
        "id": "EAxcLwiGZYeD",
        "outputId": "7bf05dc5-0a5b-40ef-beb9-a0fc76878bec"
      },
      "source": [
        "from google.colab import drive\n",
        "drive.mount('/content/drive')\n",
        "# modify the following path accordingly\n",
        "% cd '/content/drive/MyDrive/Colab Notebooks'\n",
        "% ls -lah './'\n",
        "% ls '/content/drive/MyDrive/Colab Notebooks/datasets'\n",
        "#% cd '/content/drive/MyDrive/Colab'\n"
      ],
      "execution_count": 3,
      "outputs": [
        {
          "output_type": "stream",
          "name": "stdout",
          "text": [
            "Drive already mounted at /content/drive; to attempt to forcibly remount, call drive.mount(\"/content/drive\", force_remount=True).\n",
            "/content/drive/MyDrive/Colab Notebooks\n",
            "total 566K\n",
            "-rw------- 1 root root 388K Aug 25 07:44  Contour.ipynb\n",
            "drwx------ 2 root root 4.0K Sep  1 16:13  \u001b[0m\u001b[01;34mdatasets\u001b[0m/\n",
            "-rw------- 1 root root  67K Sep  4 03:58  LogisticRegression.ipynb\n",
            "-rw------- 1 root root  29K Aug 21 05:04 'New PyTorch Usage.ipynb'\n",
            "-rw------- 1 root root  35K Aug 21 04:12 'Numpy Usage.ipynb'\n",
            "drwx------ 2 root root 4.0K Sep  1 16:12  \u001b[01;34m__pycache__\u001b[0m/\n",
            "-rw------- 1 root root 2.5K Aug 17 14:13 'PyTorch Usage'\n",
            "-rw------- 1 root root 3.2K Sep  1 14:31  uci.py\n",
            "-rw------- 1 root root  34K Aug 13 13:55  Untitled0.ipynb\n"
          ]
        }
      ]
    },
    {
      "cell_type": "code",
      "metadata": {
        "colab": {
          "base_uri": "https://localhost:8080/"
        },
        "id": "NmHtgq4L9k5L",
        "outputId": "a26398ae-5b38-4d2e-e4fb-fbb20b5cde89"
      },
      "source": [
        "% ls '/content/drive/MyDrive/Colab Notebooks/datasets'\n"
      ],
      "execution_count": 4,
      "outputs": [
        {
          "output_type": "stream",
          "name": "stdout",
          "text": [
            "adult.csv  iris.csv  wine.csv\n"
          ]
        }
      ]
    },
    {
      "cell_type": "markdown",
      "metadata": {
        "id": "loNeSyvQmQV4"
      },
      "source": [
        "### Import libraries"
      ]
    },
    {
      "cell_type": "code",
      "metadata": {
        "id": "s_Axz2kLYHH2"
      },
      "source": [
        "import pandas as pd\n",
        "import numpy as np\n",
        "import matplotlib.pyplot as plt\n",
        "from sklearn.preprocessing import StandardScaler\n",
        "from sklearn.model_selection import train_test_split\n",
        "import torch\n",
        "import torch.nn as nn\n",
        "from torch.utils.data import DataLoader, TensorDataset\n",
        "from uci import iris, adult, wine # these functions load the datasets as Pandas Dataframes\n",
        "%matplotlib inline\n"
      ],
      "execution_count": 5,
      "outputs": []
    },
    {
      "cell_type": "markdown",
      "metadata": {
        "id": "xHcVAlC1mlZf"
      },
      "source": [
        "### Prepare dataset"
      ]
    },
    {
      "cell_type": "code",
      "metadata": {
        "colab": {
          "base_uri": "https://localhost:8080/",
          "height": 363
        },
        "id": "7M0V8vPUcB_C",
        "outputId": "09ea90ba-0d7e-4e3b-c79a-ef1b96bc20f3"
      },
      "source": [
        "# Dataset (choose from iris, adult or wine)\n",
        "dataset = 'iris'\n",
        "dataset_fn = {'iris': iris(), 'adult': adult(), 'wine': wine()}\n",
        "X, y, df = dataset_fn[dataset]\n",
        "\n",
        "df.head(n=10) # show the first five rows\n"
      ],
      "execution_count": 7,
      "outputs": [
        {
          "output_type": "execute_result",
          "data": {
            "text/html": [
              "<div>\n",
              "<style scoped>\n",
              "    .dataframe tbody tr th:only-of-type {\n",
              "        vertical-align: middle;\n",
              "    }\n",
              "\n",
              "    .dataframe tbody tr th {\n",
              "        vertical-align: top;\n",
              "    }\n",
              "\n",
              "    .dataframe thead th {\n",
              "        text-align: right;\n",
              "    }\n",
              "</style>\n",
              "<table border=\"1\" class=\"dataframe\">\n",
              "  <thead>\n",
              "    <tr style=\"text-align: right;\">\n",
              "      <th></th>\n",
              "      <th>sepal_length</th>\n",
              "      <th>sepal_width</th>\n",
              "      <th>petal_length</th>\n",
              "      <th>petal_width</th>\n",
              "      <th>label</th>\n",
              "    </tr>\n",
              "  </thead>\n",
              "  <tbody>\n",
              "    <tr>\n",
              "      <th>0</th>\n",
              "      <td>5.1</td>\n",
              "      <td>3.5</td>\n",
              "      <td>1.4</td>\n",
              "      <td>0.2</td>\n",
              "      <td>0</td>\n",
              "    </tr>\n",
              "    <tr>\n",
              "      <th>1</th>\n",
              "      <td>4.9</td>\n",
              "      <td>3.0</td>\n",
              "      <td>1.4</td>\n",
              "      <td>0.2</td>\n",
              "      <td>0</td>\n",
              "    </tr>\n",
              "    <tr>\n",
              "      <th>2</th>\n",
              "      <td>4.7</td>\n",
              "      <td>3.2</td>\n",
              "      <td>1.3</td>\n",
              "      <td>0.2</td>\n",
              "      <td>0</td>\n",
              "    </tr>\n",
              "    <tr>\n",
              "      <th>3</th>\n",
              "      <td>4.6</td>\n",
              "      <td>3.1</td>\n",
              "      <td>1.5</td>\n",
              "      <td>0.2</td>\n",
              "      <td>0</td>\n",
              "    </tr>\n",
              "    <tr>\n",
              "      <th>4</th>\n",
              "      <td>5.0</td>\n",
              "      <td>3.6</td>\n",
              "      <td>1.4</td>\n",
              "      <td>0.2</td>\n",
              "      <td>0</td>\n",
              "    </tr>\n",
              "    <tr>\n",
              "      <th>5</th>\n",
              "      <td>5.4</td>\n",
              "      <td>3.9</td>\n",
              "      <td>1.7</td>\n",
              "      <td>0.4</td>\n",
              "      <td>0</td>\n",
              "    </tr>\n",
              "    <tr>\n",
              "      <th>6</th>\n",
              "      <td>4.6</td>\n",
              "      <td>3.4</td>\n",
              "      <td>1.4</td>\n",
              "      <td>0.3</td>\n",
              "      <td>0</td>\n",
              "    </tr>\n",
              "    <tr>\n",
              "      <th>7</th>\n",
              "      <td>5.0</td>\n",
              "      <td>3.4</td>\n",
              "      <td>1.5</td>\n",
              "      <td>0.2</td>\n",
              "      <td>0</td>\n",
              "    </tr>\n",
              "    <tr>\n",
              "      <th>8</th>\n",
              "      <td>4.4</td>\n",
              "      <td>2.9</td>\n",
              "      <td>1.4</td>\n",
              "      <td>0.2</td>\n",
              "      <td>0</td>\n",
              "    </tr>\n",
              "    <tr>\n",
              "      <th>9</th>\n",
              "      <td>4.9</td>\n",
              "      <td>3.1</td>\n",
              "      <td>1.5</td>\n",
              "      <td>0.1</td>\n",
              "      <td>0</td>\n",
              "    </tr>\n",
              "  </tbody>\n",
              "</table>\n",
              "</div>"
            ],
            "text/plain": [
              "   sepal_length  sepal_width  petal_length  petal_width  label\n",
              "0           5.1          3.5           1.4          0.2      0\n",
              "1           4.9          3.0           1.4          0.2      0\n",
              "2           4.7          3.2           1.3          0.2      0\n",
              "3           4.6          3.1           1.5          0.2      0\n",
              "4           5.0          3.6           1.4          0.2      0\n",
              "5           5.4          3.9           1.7          0.4      0\n",
              "6           4.6          3.4           1.4          0.3      0\n",
              "7           5.0          3.4           1.5          0.2      0\n",
              "8           4.4          2.9           1.4          0.2      0\n",
              "9           4.9          3.1           1.5          0.1      0"
            ]
          },
          "metadata": {},
          "execution_count": 7
        }
      ]
    },
    {
      "cell_type": "code",
      "metadata": {
        "colab": {
          "base_uri": "https://localhost:8080/"
        },
        "id": "BQMaIehjcEyy",
        "outputId": "b6035f89-d3c6-46d4-8bb9-dc22d6e1a47c"
      },
      "source": [
        "# Split into train and test set \n",
        "X_train, X_test, y_train, y_test = train_test_split(X, y, test_size=0.3, random_state=0, stratify=y)\n",
        "num_classes = len(np.unique(y_train))\n",
        "num_features = X_train.shape[1]\n",
        "\n",
        "# for simplicity, here we are splitting the data into the training set and the\n",
        "# test set. Rigorous model selection requires splitting into three sets, training, \n",
        "# validation, and test. \n",
        "# To do that, apply train_test_split once again on X_train and y_train\n",
        "\n",
        "print('Number of features: ', num_features)\n",
        "print('Number of classes: ', num_classes)\n",
        "print('Number of training examples: ', X_train.shape[0])\n",
        "print('Number of testing examples : ', X_test.shape[0])\n",
        "\n",
        "# Normalization to zero mean and unit standard deviation\n",
        "print(\"before normalization: mean = \" + str( X_train.sum(axis=0)) + \" std = \" + str(X_train.std(axis=0)))\n",
        "scaler = StandardScaler()\n",
        "X_train = scaler.fit_transform(X_train)\n",
        "print(\"after normalization: mean = \" + str(X_train.sum(axis=0))+ \" std = \" + str(X_train.std(axis=0)))\n",
        "\n",
        "# apply the feature-level mean and std from the training set\n",
        "X_test = scaler.transform(X_test)"
      ],
      "execution_count": 8,
      "outputs": [
        {
          "output_type": "stream",
          "name": "stdout",
          "text": [
            "Number of features:  4\n",
            "Number of classes:  3\n",
            "Number of training examples:  105\n",
            "Number of testing examples :  45\n",
            "before normalization: mean = [616.5 319.2 393.8 126.1] std = [0.856  0.4524 1.795  0.763 ]\n",
            "after normalization: mean = [ 0.00586 -0.00403 -0.00586 -0.01953] std = [0.9985 1.     0.9995 0.997 ]\n"
          ]
        }
      ]
    },
    {
      "cell_type": "markdown",
      "metadata": {
        "id": "Dn5D6pjSouGx"
      },
      "source": [
        "### Setting hyperparameters for training"
      ]
    },
    {
      "cell_type": "code",
      "metadata": {
        "id": "v4l4lUevndNO",
        "colab": {
          "base_uri": "https://localhost:8080/"
        },
        "outputId": "1901dba2-440d-4bbb-c496-e924f4b8e405"
      },
      "source": [
        "batch_size = 16\n",
        "num_epochs = 100\n",
        "learning_rate = 0.4\n",
        "device = 'cuda' if torch.cuda.is_available() else 'cpu' \n",
        "print('Current device:', device)"
      ],
      "execution_count": 34,
      "outputs": [
        {
          "output_type": "stream",
          "name": "stdout",
          "text": [
            "Current device: cuda\n"
          ]
        }
      ]
    },
    {
      "cell_type": "markdown",
      "metadata": {
        "id": "-0gl-5UzoB1F"
      },
      "source": [
        "### Dataloader"
      ]
    },
    {
      "cell_type": "code",
      "metadata": {
        "id": "3GmeQRGUn0h9"
      },
      "source": [
        "# Convert to pytorch tensor\n",
        "X_train_tensor = torch.from_numpy(X_train).type(torch.FloatTensor)\n",
        "y_train_tensor = torch.from_numpy(y_train).type(torch.LongTensor)\n",
        "X_test_tensor = torch.from_numpy(X_test).type(torch.FloatTensor)\n",
        "y_test_tensor = torch.from_numpy(y_test).type(torch.LongTensor)\n",
        "\n",
        "# Pytorch train and test sets\n",
        "train = TensorDataset(X_train_tensor,y_train_tensor)\n",
        "test = TensorDataset(X_test_tensor,y_test_tensor)\n",
        "\n",
        "# Data loader\n",
        "train_loader = DataLoader(train, batch_size = batch_size, shuffle = True)\n",
        "test_loader = DataLoader(test, batch_size = batch_size, shuffle = False)\n",
        "# You should always shuffle the training dataset.\n",
        "# Insufficient shuffling leads to biased estimates of the gradient!\n",
        "# Shuffling the test set does not affect performance.  "
      ],
      "execution_count": 10,
      "outputs": []
    },
    {
      "cell_type": "markdown",
      "metadata": {
        "id": "-gmflwnzo_cw"
      },
      "source": [
        "### Model"
      ]
    },
    {
      "cell_type": "code",
      "metadata": {
        "id": "HIa4z5IoVU2L"
      },
      "source": [
        "class SoftmaxRegression(nn.Module):\n",
        "    def __init__(self, num_features, num_classes):\n",
        "        super().__init__()\n",
        "        self.linear = nn.Linear(num_features, num_classes) # this is a fully connected layer\n",
        "    \n",
        "    def forward(self, x):\n",
        "        out = self.linear(x) # the outputs are the logits. This is expected by CrossEntropyLoss\n",
        "        return out"
      ],
      "execution_count": 11,
      "outputs": []
    },
    {
      "cell_type": "code",
      "metadata": {
        "colab": {
          "base_uri": "https://localhost:8080/"
        },
        "id": "dMbnX7aGqDtg",
        "outputId": "43e68914-d7f3-4ee3-e782-d9a009390d0c"
      },
      "source": [
        "# Create model\n",
        "model = SoftmaxRegression(num_features, num_classes).to(device)\n",
        "print('Model: ', model)\n",
        "# Cross entropy loss\n",
        "criterion = nn.CrossEntropyLoss().to(device)\n",
        "\n",
        "# Optimizer\n",
        "# optimizer = torch.optim.SGD(model.parameters(), lr=learning_rate) \n",
        "# this is SGD without momentum. \n",
        "\n",
        "optimizer = torch.optim.SGD(model.parameters(), momentum=0.9, lr=learning_rate) \n",
        "# this is SGD with momentum. We will discuss momentum later in the lecture.\n",
        "\n",
        "scheduler = torch.optim.lr_scheduler.CosineAnnealingLR(optimizer, 60, eta_min=0)\n",
        "# Cosine decay for the learning rate\n"
      ],
      "execution_count": 42,
      "outputs": [
        {
          "output_type": "stream",
          "name": "stdout",
          "text": [
            "Model:  SoftmaxRegression(\n",
            "  (linear): Linear(in_features=4, out_features=3, bias=True)\n",
            ")\n"
          ]
        }
      ]
    },
    {
      "cell_type": "markdown",
      "metadata": {
        "id": "q-PV_SN_qq-S"
      },
      "source": [
        "### Training"
      ]
    },
    {
      "cell_type": "code",
      "metadata": {
        "id": "PAbtUangnL2u"
      },
      "source": [
        "def train_func(model, optimizer, criterion, train_loader, device, epoch):\n",
        "  train_loss_ = 0\n",
        "  correct_train = 0\n",
        "  total_train = 0\n",
        "\n",
        "  for i, (train_samples, labels) in enumerate(train_loader):\n",
        "    train_samples = train_samples.to(device)\n",
        "    labels = labels.to(device)\n",
        "  \n",
        "    # Forward pass\n",
        "    outputs = model(train_samples)\n",
        "\n",
        "    # Calculate softmax and cross entropy loss\n",
        "    loss = criterion(outputs, labels)\n",
        "\n",
        "    # Compute gradient and do SGD step\n",
        "    optimizer.zero_grad()\n",
        "    loss.backward()\n",
        "    optimizer.step()\n",
        "\n",
        "    # Calculate train accuracy\n",
        "    _, predicted = torch.max(outputs, dim=1)\n",
        "\n",
        "    # Accumulate train loss and acc for monitoring\n",
        "    total_train += labels.size(0)\n",
        "    correct_train += (predicted == labels).sum()\n",
        "    train_loss_ += loss*labels.size(0)\n",
        "    \n",
        "  scheduler.step()\n",
        "  # store train loss and acc\n",
        "  train_loss = (train_loss_/total_train).item()\n",
        "  train_acc = (correct_train/total_train).item()\n",
        "\n",
        "  return train_loss, train_acc "
      ],
      "execution_count": 43,
      "outputs": []
    },
    {
      "cell_type": "code",
      "metadata": {
        "id": "Mr9mhXv0oF0p"
      },
      "source": [
        "def eval(model, criterion, test_loader, device):\n",
        "  test_loss_ = 0\n",
        "  correct_test = 0\n",
        "  total_test = 0\n",
        "  with torch.no_grad():\n",
        "    for test_samples, test_labels in test_loader:\n",
        "      test_samples = test_samples.to(device)\n",
        "      test_labels = test_labels.to(device)\n",
        "      test_outputs = model(test_samples)\n",
        "      loss = criterion(test_outputs, test_labels)\n",
        "      _, test_predicted = torch.max(test_outputs, dim=1)\n",
        "\n",
        "      # Accumulate test loss and acc for monitoring\n",
        "      total_test += test_labels.size(0)\n",
        "      correct_test += (test_predicted == test_labels).sum()\n",
        "      test_loss_ += loss*test_labels.size(0)\n",
        "\n",
        "    test_loss = (test_loss_/total_test).item()\n",
        "    test_acc = (correct_test/total_test).item()\n",
        "  return test_loss, test_acc"
      ],
      "execution_count": 13,
      "outputs": []
    },
    {
      "cell_type": "code",
      "metadata": {
        "colab": {
          "base_uri": "https://localhost:8080/"
        },
        "id": "Q_ZM6Y0Tow64",
        "outputId": "d1d59c42-8e41-45ca-96bb-e9a094bce814"
      },
      "source": [
        "train_loss = []\n",
        "train_acc = []\n",
        "test_loss = []\n",
        "test_acc = []\n",
        "for epoch in range(num_epochs):\n",
        "  train_loss_, train_acc_ = train_func(model, optimizer, criterion, train_loader, device, epoch)\n",
        "  test_loss_, test_acc_ = eval(model, criterion, test_loader, device)\n",
        "  if epoch%5 == 0:\n",
        "    print('Epoch: {}, Train loss: {:.4f}, Test loss: {:.4f}, Train acc: {:.4f}, \\\n",
        "    Test acc: {:.4f}'.format(epoch, train_loss_, test_loss_, train_acc_, test_acc_))\n",
        "  train_loss.append(train_loss_)\n",
        "  test_loss.append(test_loss_)\n",
        "  train_acc.append(train_acc_)\n",
        "  test_acc.append(test_acc_)"
      ],
      "execution_count": 44,
      "outputs": [
        {
          "output_type": "stream",
          "name": "stdout",
          "text": [
            "Epoch: 0, Train loss: 0.5552, Test loss: 0.3464, Train acc: 0.7429,     Test acc: 0.8000\n",
            "Epoch: 5, Train loss: 0.0997, Test loss: 0.0902, Train acc: 0.9810,     Test acc: 0.9556\n",
            "Epoch: 10, Train loss: 0.0746, Test loss: 0.0672, Train acc: 0.9619,     Test acc: 0.9778\n",
            "Epoch: 15, Train loss: 0.0722, Test loss: 0.0609, Train acc: 0.9524,     Test acc: 1.0000\n",
            "Epoch: 20, Train loss: 0.0709, Test loss: 0.0625, Train acc: 0.9810,     Test acc: 0.9778\n",
            "Epoch: 25, Train loss: 0.0662, Test loss: 0.0610, Train acc: 0.9810,     Test acc: 0.9778\n",
            "Epoch: 30, Train loss: 0.0656, Test loss: 0.0544, Train acc: 0.9714,     Test acc: 1.0000\n",
            "Epoch: 35, Train loss: 0.0647, Test loss: 0.0521, Train acc: 0.9619,     Test acc: 0.9778\n",
            "Epoch: 40, Train loss: 0.0667, Test loss: 0.0584, Train acc: 0.9810,     Test acc: 0.9778\n",
            "Epoch: 45, Train loss: 0.0628, Test loss: 0.0497, Train acc: 0.9714,     Test acc: 1.0000\n",
            "Epoch: 50, Train loss: 0.0626, Test loss: 0.0508, Train acc: 0.9714,     Test acc: 1.0000\n",
            "Epoch: 55, Train loss: 0.0624, Test loss: 0.0512, Train acc: 0.9714,     Test acc: 1.0000\n",
            "Epoch: 60, Train loss: 0.0624, Test loss: 0.0512, Train acc: 0.9714,     Test acc: 1.0000\n",
            "Epoch: 65, Train loss: 0.0624, Test loss: 0.0513, Train acc: 0.9714,     Test acc: 1.0000\n",
            "Epoch: 70, Train loss: 0.0624, Test loss: 0.0515, Train acc: 0.9714,     Test acc: 1.0000\n",
            "Epoch: 75, Train loss: 0.0626, Test loss: 0.0511, Train acc: 0.9714,     Test acc: 1.0000\n",
            "Epoch: 80, Train loss: 0.0626, Test loss: 0.0494, Train acc: 0.9714,     Test acc: 1.0000\n",
            "Epoch: 85, Train loss: 0.0628, Test loss: 0.0535, Train acc: 0.9810,     Test acc: 0.9778\n",
            "Epoch: 90, Train loss: 0.0645, Test loss: 0.0475, Train acc: 0.9524,     Test acc: 1.0000\n",
            "Epoch: 95, Train loss: 0.0649, Test loss: 0.0442, Train acc: 0.9714,     Test acc: 0.9778\n"
          ]
        }
      ]
    },
    {
      "cell_type": "markdown",
      "metadata": {
        "id": "AmH_itPFqpd7"
      },
      "source": [
        "### Visualisation"
      ]
    },
    {
      "cell_type": "code",
      "metadata": {
        "colab": {
          "base_uri": "https://localhost:8080/",
          "height": 295
        },
        "id": "fQkQs5WxqsWJ",
        "outputId": "dfedab52-0e19-422e-9f3a-93e25039548f"
      },
      "source": [
        "plt.plot(range(len(train_loss)), train_loss, 'b')\n",
        "plt.plot(range(len(test_loss)), test_loss, 'r')\n",
        "plt.xlabel(\"Number of epochs\")\n",
        "plt.ylabel(\"Loss\")\n",
        "plt.title(\"Logistic Regression: Loss vs Number of epochs\")\n",
        "plt.legend(['train', 'test'])\n",
        "plt.show()"
      ],
      "execution_count": 45,
      "outputs": [
        {
          "output_type": "display_data",
          "data": {
            "image/png": "[encoded data removed]",
            "text/plain": [
              "<Figure size 432x288 with 1 Axes>"
            ]
          },
          "metadata": {
            "needs_background": "light"
          }
        }
      ]
    },
    {
      "cell_type": "code",
      "metadata": {
        "colab": {
          "base_uri": "https://localhost:8080/",
          "height": 295
        },
        "id": "vyuvMrAitvOF",
        "outputId": "54a909ae-b53d-4358-a4a2-b54be80b59ef"
      },
      "source": [
        "plt.plot(range(len(train_acc)), train_acc, 'b')\n",
        "plt.plot(range(len(test_acc)), test_acc, 'r')\n",
        "plt.xlabel(\"Number of epochs\")\n",
        "plt.ylabel(\"Accuracy\")\n",
        "plt.title(\"Logistic Regression: Accuracy vs Number of epochs\")\n",
        "plt.legend(['train', 'test'])\n",
        "plt.show()"
      ],
      "execution_count": 46,
      "outputs": [
        {
          "output_type": "display_data",
          "data": {
            "image/png": "[encoded data removed]",
            "text/plain": [
              "<Figure size 432x288 with 1 Axes>"
            ]
          },
          "metadata": {
            "needs_background": "light"
          }
        }
      ]
    },
    {
      "cell_type": "markdown",
      "metadata": {
        "id": "78kTTnq9QlGn"
      },
      "source": [
        "### References/Resources\n",
        "1. https://www.kaggle.com/kanncaa1/pytorch-tutorial-for-deep-learning-lovers/notebook\n",
        "2. [Softmax activation](https://towardsdatascience.com/softmax-activation-function-explained-a7e1bc3ad60)\n"
      ]
    }
  ]
}